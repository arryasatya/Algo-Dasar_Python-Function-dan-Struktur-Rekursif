{
 "cells": [
  {
   "cell_type": "code",
   "execution_count": 1,
   "id": "1076a7a1",
   "metadata": {},
   "outputs": [
    {
     "name": "stdout",
     "output_type": "stream",
     "text": [
      "=== KONVERSI SUHU CELCIUS ===\n",
      "\n",
      "1. Reamur\n",
      "2. Fahrenhit\n",
      "3. Kelvin\n",
      "Ingin Konversi ke? (1-3): 1\n",
      "(Celcius -> Reamur)\n",
      "Masukan Suhu Celcius : 100\n",
      "Suhu Reamur :  80.0 R\n"
     ]
    }
   ],
   "source": [
    "def c_r():\n",
    "    celcius = float(input(\"Masukan Suhu Celcius : \"))\n",
    "    reamur = (4/5) * celcius\n",
    "    print(\"Suhu Reamur : \", reamur , \"R\")\n",
    "    return reamur\n",
    "\n",
    "def c_f():\n",
    "    celcius1 = float(input('Masukan Suhu Celcius: '))\n",
    "    fahrenhit = ((9/5) * celcius1) + 32\n",
    "    print(\"Suhu Fahrenhit : \", fahrenhit, \"F\")\n",
    "    return fahrenhit\n",
    "\n",
    "def c_k():\n",
    "    celcius2 = float(input(\"Masukan Suhu Celcius: \"))\n",
    "    kelvin = celcius2 + 273\n",
    "    print('Suhu Kelvin : ', kelvin, \"K\")\n",
    "    return kelvin\n",
    "\n",
    "while True:\n",
    "    print('=== KONVERSI SUHU CELCIUS ===')\n",
    "    print(\"\\n1. Reamur\\n2. Fahrenhit\\n3. Kelvin\")\n",
    "    option = input(\"Ingin Konversi ke? (1-3): \")\n",
    "    if option == \"1\":\n",
    "        print('(Celcius -> Reamur)')\n",
    "        c_r()\n",
    "    elif option == '2':\n",
    "        print('(Celcius -> Fahrenhit)')\n",
    "        c_f()\n",
    "    elif option == '3':\n",
    "        print('(Celcius -> Kelvin)')\n",
    "        c_k()\n",
    "    break\n"
   ]
  },
  {
   "cell_type": "code",
   "execution_count": 2,
   "id": "61334853",
   "metadata": {},
   "outputs": [
    {
     "name": "stdout",
     "output_type": "stream",
     "text": [
      "===MATHFUNCTION MODULE====\n",
      "\n",
      "1. Akar Kuadrat\n",
      "2. Eksponen\n",
      "3. Log\n",
      "4. Log10\n",
      "5. Kosinus\n",
      "6. Pow\n",
      "7. Degrees\n",
      "8. radians\n",
      "9. fabs\n",
      "\n",
      "Masukan Pilihan Operasi (1-9) : 1\n",
      "Masukkan Bilangan x pilihan kamu : 16\n",
      "Masukkan Bilangan y pilihan kamu : 0\n",
      "Hasil perhitungan kamu adalah 4.0\n"
     ]
    }
   ],
   "source": [
    "# import library math module\n",
    "from math import sqrt\n",
    "from math import exp\n",
    "from math import log\n",
    "from math import log10\n",
    "from math import cos\n",
    "from math import pow\n",
    "from math import degrees\n",
    "from math import radians\n",
    "from math import fabs\n",
    "\n",
    "print(\"===MATHFUNCTION MODULE====\")\n",
    "print(\"\\n1. Akar Kuadrat\\n2. Eksponen\\n3. Log\\n4. Log10\\n5. Kosinus\\n6. Pow\\n7. Degrees\\n8. radians\\n9. fabs\")\n",
    "option = int(input(\"\\nMasukan Pilihan Operasi (1-9) : \"))\n",
    "x= float(input(\"Masukkan Bilangan x pilihan kamu : \"))\n",
    "y= float(input(\"Masukkan Bilangan y pilihan kamu : \"))\n",
    "\n",
    "\n",
    "if option == 1:\n",
    "   hasil = sqrt(x)\n",
    "elif option == 2:\n",
    "   hasil = exp(x)\n",
    "elif option == 3:\n",
    "   hasil = log(x)\n",
    "elif option == 4:\n",
    "   hasil = log10(x)\n",
    "elif option == 5:\n",
    "   hasil = cos(x)\n",
    "elif option == 6:\n",
    "   hasil = pow(x,y)\n",
    "elif option == 7:\n",
    "   hasil = degrees(x)\n",
    "elif option == 8:\n",
    "   hasil = radians(x)\n",
    "elif option == 9:\n",
    "   hasil = fabs(x)\n",
    "\n",
    "print('Hasil perhitungan kamu adalah', hasil)"
   ]
  },
  {
   "cell_type": "code",
   "execution_count": 3,
   "id": "4b1e0978",
   "metadata": {},
   "outputs": [
    {
     "name": "stdout",
     "output_type": "stream",
     "text": [
      "+-------+\n",
      "| *     |\n",
      "|   *   |\n",
      "|     * |\n",
      "+-------+\n",
      "|       |\n",
      "|   *   |\n",
      "|       |\n",
      "+-------+\n",
      "+-------+\n",
      "| *   * |\n",
      "|   *   |\n",
      "| *   * |\n",
      "+-------+\n",
      "| *   * |\n",
      "|       |\n",
      "| *   * |\n",
      "+-------+\n",
      "+-------+\n",
      "| *     |\n",
      "|       |\n",
      "|     * |\n",
      "+-------+\n",
      "|       |\n",
      "|   *   |\n",
      "|       |\n",
      "+-------+\n",
      "+-------+\n",
      "| *   * |\n",
      "|       |\n",
      "| *   * |\n",
      "+-------+\n",
      "| *   * |\n",
      "|   *   |\n",
      "| *   * |\n",
      "+-------+\n"
     ]
    }
   ],
   "source": [
    "from random import randrange\n",
    "for x in range(0,4):\n",
    "    value = randrange(1,6)\n",
    "    print(\"+-------+\")\n",
    "    \n",
    "    if value == 1:\n",
    "        print(\"|       |\")\n",
    "        print(\"|   *   |\")\n",
    "        print(\"|       |\")\n",
    "    elif value == 2:\n",
    "        print(\"| *     |\")\n",
    "        print(\"|       |\")\n",
    "        print(\"|     * |\")\n",
    "    elif value == 3:\n",
    "        print(\"| *     |\")\n",
    "        print(\"|   *   |\")\n",
    "        print(\"|     * |\")\n",
    "    elif value == 4:\n",
    "        print(\"| *   * |\")\n",
    "        print(\"|       |\")\n",
    "        print(\"| *   * |\")\n",
    "    elif value == 5:\n",
    "        print(\"| *   * |\")\n",
    "        print(\"|   *   |\")\n",
    "        print(\"| *   * |\")\n",
    "    elif value == 6:\n",
    "        print(\"| * * * |\")\n",
    "        print(\"|       |\")\n",
    "        print(\"| * * * |\")\n",
    "    print(\"+-------+\")\n",
    "    \n",
    "    value1 = randrange(1,6)\n",
    "    if value1 == 1:\n",
    "        print(\"|       |\")\n",
    "        print(\"|   *   |\")\n",
    "        print(\"|       |\")\n",
    "    elif value1 == 2:\n",
    "        print(\"| *     |\")\n",
    "        print(\"|       |\")\n",
    "        print(\"|     * |\")\n",
    "    elif value1 == 3:\n",
    "        print(\"| *     |\")\n",
    "        print(\"|   *   |\")\n",
    "        print(\"|     * |\")\n",
    "    elif value1 == 4:\n",
    "        print(\"| *   * |\")\n",
    "        print(\"|       |\")\n",
    "        print(\"| *   * |\")\n",
    "    elif value1 == 5:\n",
    "        print(\"| *   * |\")\n",
    "        print(\"|   *   |\")\n",
    "        print(\"| *   * |\")\n",
    "    elif value1 == 6:\n",
    "        print(\"| * * * |\")\n",
    "        print(\"|       |\")\n",
    "        print(\"| * * * |\")\n",
    "    else:\n",
    "        print(\"*** Error: Illegal die value\")\n",
    "    print(\"+-------+\")\n",
    "    \n",
    "    if value == value1:\n",
    "        print(\"Angka dadu anda kembar! Selamat anda mendapatkan reward 100\")"
   ]
  },
  {
   "cell_type": "code",
   "execution_count": 1,
   "id": "c0da3594",
   "metadata": {},
   "outputs": [
    {
     "name": "stdout",
     "output_type": "stream",
     "text": [
      "Input angka: 2\n",
      "2! = 2\n"
     ]
    }
   ],
   "source": [
    "def hitungFaktorial(input): \n",
    "  if (input > 1):\n",
    "    return input * hitungFaktorial(input-1)\n",
    "  else:\n",
    "    return 1;\n",
    "   \n",
    "angka = int(input('Input angka: '))\n",
    " \n",
    "print(angka,'! = ',hitungFaktorial(angka),sep='')"
   ]
  },
  {
   "cell_type": "code",
   "execution_count": 2,
   "id": "80d95909",
   "metadata": {},
   "outputs": [
    {
     "name": "stdout",
     "output_type": "stream",
     "text": [
      "Masukkan nilai X2\n",
      "Masukkan nilai Y (Pangkat) : 2\n",
      "2 dipangkatkan 2 = 4\n"
     ]
    }
   ],
   "source": [
    "def pangkat(x,y):\n",
    "    if y == 0:\n",
    "        return 1\n",
    "    else:\n",
    "        return x * pangkat(x,y-1)\n",
    "\n",
    "x = int(input(\"Masukkan nilai X\"))\n",
    "y = int(input(\"Masukkan nilai Y (Pangkat) : \"))\n",
    "\n",
    "print(\"%d dipangkatkan %d = %d\" % (x,y,pangkat(x,y)))"
   ]
  },
  {
   "cell_type": "code",
   "execution_count": 3,
   "id": "27209a61",
   "metadata": {},
   "outputs": [
    {
     "name": "stdout",
     "output_type": "stream",
     "text": [
      "Masukkan banyak suku: 5\n",
      "Deret Fibonacci: \n",
      "0\n",
      "1\n",
      "1\n",
      "2\n",
      "3\n"
     ]
    }
   ],
   "source": [
    "def rekursif_fibonacci(n):\n",
    "    if n <= 1:\n",
    "        return n\n",
    "    else:\n",
    "        return(rekursif_fibonacci(n-2) + rekursif_fibonacci(n-1))\n",
    "n_angka = int(input(\"Masukkan banyak suku: \"))\n",
    "\n",
    "if n_angka <= 0:\n",
    "    print(\"Input tidak valid! Silahkan masukkan blangan positif\")\n",
    "else:\n",
    "    print(\"Deret Fibonacci: \")\n",
    "    for i in range(n_angka):\n",
    "        print(rekursif_fibonacci(i))"
   ]
  },
  {
   "cell_type": "code",
   "execution_count": 4,
   "id": "2c4f6a66",
   "metadata": {},
   "outputs": [
    {
     "name": "stdout",
     "output_type": "stream",
     "text": [
      "Masukkan kalimat yag akan di-reverse : selamat\n",
      "tamales\n"
     ]
    }
   ],
   "source": [
    "def reverse(n):\n",
    "    if len(n) == 0:\n",
    "        return n\n",
    "    else:\n",
    "        return reverse(n[1:]) + n[0]\n",
    "kalimat = str(input(\"Masukkan kalimat yag akan di-reverse : \"))\n",
    "print(reverse(kalimat))"
   ]
  },
  {
   "cell_type": "code",
   "execution_count": 5,
   "id": "475e263a",
   "metadata": {},
   "outputs": [
    {
     "name": "stdout",
     "output_type": "stream",
     "text": [
      "Silahkan masukkan angka dan basis yang kalian inginkan.\n",
      "Silahkan masukkan angka : 30\n",
      "Masukkan basis : 2\n",
      "11110\n"
     ]
    }
   ],
   "source": [
    "def toStr(n,base):\n",
    "    convertString = \"0123456789ABCDEF\"\n",
    "    if n < base:\n",
    "        return convertString[n]\n",
    "    else:\n",
    "        return toStr(n//base,base) + convertString[n%base]\n",
    "print(\"Silahkan masukkan angka dan basis yang kalian inginkan.\")\n",
    "angka = int(input(\"Silahkan masukkan angka : \"))\n",
    "basis = int(input(\"Masukkan basis : \"))\n",
    "print(toStr(angka,basis))"
   ]
  },
  {
   "cell_type": "code",
   "execution_count": 6,
   "id": "d966d65d",
   "metadata": {},
   "outputs": [
    {
     "name": "stdout",
     "output_type": "stream",
     "text": [
      "Silahkan masukkan angka dan basis yang kalian inginkan.\n",
      "Silahkan masukkan angka : 30\n",
      "Masukkan basis : 8\n",
      "36\n"
     ]
    }
   ],
   "source": [
    "def toStr(n,base):\n",
    "    convertString = \"0123456789ABCDEF\"\n",
    "    if n < base:\n",
    "        return convertString[n]\n",
    "    else:\n",
    "        return toStr(n//base,base) + convertString[n%base]\n",
    "print(\"Silahkan masukkan angka dan basis yang kalian inginkan.\")\n",
    "angka = int(input(\"Silahkan masukkan angka : \"))\n",
    "basis = int(input(\"Masukkan basis : \"))\n",
    "print(toStr(angka,basis))"
   ]
  },
  {
   "cell_type": "code",
   "execution_count": 7,
   "id": "b0e23fbb",
   "metadata": {},
   "outputs": [
    {
     "name": "stdout",
     "output_type": "stream",
     "text": [
      "Silahkan masukkan angka dan basis yang kalian inginkan.\n",
      "Silahkan masukkan angka : 30\n",
      "Masukkan basis : 16\n",
      "1E\n"
     ]
    }
   ],
   "source": [
    "def toStr(n,base):\n",
    "    convertString = \"0123456789ABCDEF\"\n",
    "    if n < base:\n",
    "        return convertString[n]\n",
    "    else:\n",
    "        return toStr(n//base,base) + convertString[n%base]\n",
    "print(\"Silahkan masukkan angka dan basis yang kalian inginkan.\")\n",
    "angka = int(input(\"Silahkan masukkan angka : \"))\n",
    "basis = int(input(\"Masukkan basis : \"))\n",
    "print(toStr(angka,basis))"
   ]
  },
  {
   "cell_type": "code",
   "execution_count": 8,
   "id": "e928aff3",
   "metadata": {},
   "outputs": [
    {
     "name": "stdout",
     "output_type": "stream",
     "text": [
      "Silahkan masukkan bilangan ke-n : 4\n",
      "Total triangular:  10\n"
     ]
    }
   ],
   "source": [
    "def triangularNumbers(n):\n",
    "    if n == 1:\n",
    "        return(1)\n",
    "    else:\n",
    "        return (n+triangularNumbers(n-1))\n",
    "angka = int(input(\"Silahkan masukkan bilangan ke-n : \"))\n",
    "print(\"Total triangular: \", triangularNumbers(angka))"
   ]
  },
  {
   "cell_type": "code",
   "execution_count": null,
   "id": "15274b51",
   "metadata": {},
   "outputs": [],
   "source": []
  }
 ],
 "metadata": {
  "kernelspec": {
   "display_name": "Python 3 (ipykernel)",
   "language": "python",
   "name": "python3"
  },
  "language_info": {
   "codemirror_mode": {
    "name": "ipython",
    "version": 3
   },
   "file_extension": ".py",
   "mimetype": "text/x-python",
   "name": "python",
   "nbconvert_exporter": "python",
   "pygments_lexer": "ipython3",
   "version": "3.9.12"
  }
 },
 "nbformat": 4,
 "nbformat_minor": 5
}
